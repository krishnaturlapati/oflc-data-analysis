{
 "cells": [
  {
   "cell_type": "code",
   "execution_count": 5,
   "metadata": {},
   "outputs": [],
   "source": [
    "# Import SparkSession from pyspark.sql\n",
    "from pyspark.sql import SparkSession\n",
    "spark = SparkSession.builder.getOrCreate()\n"
   ]
  },
  {
   "cell_type": "code",
   "execution_count": 6,
   "metadata": {},
   "outputs": [
    {
     "data": {
      "text/plain": [
       "'2.4.3'"
      ]
     },
     "execution_count": 6,
     "metadata": {},
     "output_type": "execute_result"
    }
   ],
   "source": [
    "spark.version"
   ]
  },
  {
   "cell_type": "code",
   "execution_count": null,
   "metadata": {},
   "outputs": [],
   "source": [
    "spark.read.csv('D:\\AppData\\oflc\\raw_h1b\\csv\\H1B_FY2008.csv').coalesce(1).write.partitionBy('dir').parquet('output')"
   ]
  },
  {
   "cell_type": "code",
   "execution_count": 26,
   "metadata": {},
   "outputs": [],
   "source": [
    "file_path = 'D:\\\\AppData\\\\oflc\\\\raw_h1b\\\\csv\\\\H1B_FY2008.csv'"
   ]
  },
  {
   "cell_type": "code",
   "execution_count": 27,
   "metadata": {},
   "outputs": [],
   "source": [
    "df1 = spark.read.csv(file_path,header=True)"
   ]
  },
  {
   "cell_type": "code",
   "execution_count": 30,
   "metadata": {},
   "outputs": [
    {
     "data": {
      "text/plain": [
       "405644"
      ]
     },
     "execution_count": 30,
     "metadata": {},
     "output_type": "execute_result"
    }
   ],
   "source": [
    "df.count()"
   ]
  },
  {
   "cell_type": "code",
   "execution_count": 12,
   "metadata": {},
   "outputs": [
    {
     "data": {
      "text/plain": [
       "Row(SUBMITTED_DATE='3/30/2008', CASE_NO='I-08090-4182485', PROGRAM='R', NAME='SPI RESEARCH AND DEVELOPMENT SERVICES, LLC', ADDRESS1='67 SOUTH BEDFORD STREET', ADDRESS2='205 W', CITY='BURLINGTON', STATE='MA', POSTAL_CODE='01803', NBR_IMMIGRANTS='1', BEGIN_DATE='9/30/2008', END_DATE='9/29/2011', JOB_TITLE='PROGRAMMER ANALYST', DOL_DECISION_DATE='3/30/2008', CERTIFIED_BEGIN_DATE=None, CERTIFIED_END_DATE=None, JOB_CODE='30', APPROVAL_STATUS='CERTIFIED', WAGE_RATE_1='50000', RATE_PER_1='yr', MAX_RATE_1='77000', PART_TIME_1='N', CITY_1='BURLINGTON', STATE_1='MA', PREVAILING_WAGE_1='44298', WAGE_SOURCE_1='yr', YR_SOURCE_PUB_1='2007', OTHER_WAGE_SOURCE_1='DOL ONLINE WAGE LIBRARY', WAGE_RATE_2=None, RATE_PER_2=None, MAX_RATE_2=None, PART_TIME_2=None, CITY_2=None, STATE_2=None, PREVAILING_WAGE_2=None, WAGE_SOURCE_2=None, YR_SOURCE_PUB_2=None, OTHER_WAGE_SOURCE_2=None, WITHDRAWN='N', OCCUPATIONAL_TITLE='OCCUPATIONS IN SYSTEMS ANALYSIS AND PROGRAMMING')"
      ]
     },
     "execution_count": 12,
     "metadata": {},
     "output_type": "execute_result"
    }
   ],
   "source": [
    "df.head()"
   ]
  },
  {
   "cell_type": "code",
   "execution_count": 14,
   "metadata": {},
   "outputs": [],
   "source": [
    "df.coalesce(1).write.parquet('output')"
   ]
  },
  {
   "cell_type": "code",
   "execution_count": 15,
   "metadata": {},
   "outputs": [
    {
     "name": "stdout",
     "output_type": "stream",
     "text": [
      "covert_xlsx_to_csv_utf8.ps1\n",
      "csv_to_parquet.ipynb\n",
      "output\n",
      "sql\n"
     ]
    }
   ],
   "source": [
    "!ls"
   ]
  },
  {
   "cell_type": "code",
   "execution_count": 16,
   "metadata": {},
   "outputs": [
    {
     "name": "stdout",
     "output_type": "stream",
     "text": [
      "C:\\Users\\Turla\\Desktop\\Projects\\oflc-data-analysis\\data_ingestion\n"
     ]
    }
   ],
   "source": [
    "!pwd"
   ]
  },
  {
   "cell_type": "code",
   "execution_count": 18,
   "metadata": {},
   "outputs": [],
   "source": [
    "df = spark.read.parquet('output')"
   ]
  },
  {
   "cell_type": "code",
   "execution_count": 19,
   "metadata": {},
   "outputs": [
    {
     "data": {
      "text/plain": [
       "Row(SUBMITTED_DATE='3/30/2008', CASE_NO='I-08090-4182485', PROGRAM='R', NAME='SPI RESEARCH AND DEVELOPMENT SERVICES, LLC', ADDRESS1='67 SOUTH BEDFORD STREET', ADDRESS2='205 W', CITY='BURLINGTON', STATE='MA', POSTAL_CODE='01803', NBR_IMMIGRANTS='1', BEGIN_DATE='9/30/2008', END_DATE='9/29/2011', JOB_TITLE='PROGRAMMER ANALYST', DOL_DECISION_DATE='3/30/2008', CERTIFIED_BEGIN_DATE=None, CERTIFIED_END_DATE=None, JOB_CODE='30', APPROVAL_STATUS='CERTIFIED', WAGE_RATE_1='50000', RATE_PER_1='yr', MAX_RATE_1='77000', PART_TIME_1='N', CITY_1='BURLINGTON', STATE_1='MA', PREVAILING_WAGE_1='44298', WAGE_SOURCE_1='yr', YR_SOURCE_PUB_1='2007', OTHER_WAGE_SOURCE_1='DOL ONLINE WAGE LIBRARY', WAGE_RATE_2=None, RATE_PER_2=None, MAX_RATE_2=None, PART_TIME_2=None, CITY_2=None, STATE_2=None, PREVAILING_WAGE_2=None, WAGE_SOURCE_2=None, YR_SOURCE_PUB_2=None, OTHER_WAGE_SOURCE_2=None, WITHDRAWN='N', OCCUPATIONAL_TITLE='OCCUPATIONS IN SYSTEMS ANALYSIS AND PROGRAMMING')"
      ]
     },
     "execution_count": 19,
     "metadata": {},
     "output_type": "execute_result"
    }
   ],
   "source": [
    "df.head()"
   ]
  },
  {
   "cell_type": "code",
   "execution_count": 23,
   "metadata": {},
   "outputs": [
    {
     "data": {
      "text/plain": [
       "['SUBMITTED_DATE',\n",
       " 'CASE_NO',\n",
       " 'PROGRAM',\n",
       " 'NAME',\n",
       " 'ADDRESS1',\n",
       " 'ADDRESS2',\n",
       " 'CITY',\n",
       " 'STATE',\n",
       " 'POSTAL_CODE',\n",
       " 'NBR_IMMIGRANTS',\n",
       " 'BEGIN_DATE',\n",
       " 'END_DATE',\n",
       " 'JOB_TITLE',\n",
       " 'DOL_DECISION_DATE',\n",
       " 'CERTIFIED_BEGIN_DATE',\n",
       " 'CERTIFIED_END_DATE',\n",
       " 'JOB_CODE',\n",
       " 'APPROVAL_STATUS',\n",
       " 'WAGE_RATE_1',\n",
       " 'RATE_PER_1',\n",
       " 'MAX_RATE_1',\n",
       " 'PART_TIME_1',\n",
       " 'CITY_1',\n",
       " 'STATE_1',\n",
       " 'PREVAILING_WAGE_1',\n",
       " 'WAGE_SOURCE_1',\n",
       " 'YR_SOURCE_PUB_1',\n",
       " 'OTHER_WAGE_SOURCE_1',\n",
       " 'WAGE_RATE_2',\n",
       " 'RATE_PER_2',\n",
       " 'MAX_RATE_2',\n",
       " 'PART_TIME_2',\n",
       " 'CITY_2',\n",
       " 'STATE_2',\n",
       " 'PREVAILING_WAGE_2',\n",
       " 'WAGE_SOURCE_2',\n",
       " 'YR_SOURCE_PUB_2',\n",
       " 'OTHER_WAGE_SOURCE_2',\n",
       " 'WITHDRAWN',\n",
       " 'OCCUPATIONAL_TITLE']"
      ]
     },
     "execution_count": 23,
     "metadata": {},
     "output_type": "execute_result"
    }
   ],
   "source": [
    "df.columns"
   ]
  },
  {
   "cell_type": "code",
   "execution_count": 24,
   "metadata": {},
   "outputs": [
    {
     "data": {
      "text/plain": [
       "405644"
      ]
     },
     "execution_count": 24,
     "metadata": {},
     "output_type": "execute_result"
    }
   ],
   "source": [
    "df.count()"
   ]
  },
  {
   "cell_type": "code",
   "execution_count": 25,
   "metadata": {},
   "outputs": [
    {
     "name": "stdout",
     "output_type": "stream",
     "text": [
      "+--------------+---------------+-------+--------------------+--------------------+--------+----------+-----+-----------+--------------+----------+---------+------------------+-----------------+--------------------+------------------+--------+---------------+-----------+----------+----------+-----------+----------+-------+-----------------+-------------+---------------+--------------------+-----------+----------+----------+-----------+------+-------+-----------------+-------------+---------------+-------------------+---------+--------------------+\n",
      "|SUBMITTED_DATE|        CASE_NO|PROGRAM|                NAME|            ADDRESS1|ADDRESS2|      CITY|STATE|POSTAL_CODE|NBR_IMMIGRANTS|BEGIN_DATE| END_DATE|         JOB_TITLE|DOL_DECISION_DATE|CERTIFIED_BEGIN_DATE|CERTIFIED_END_DATE|JOB_CODE|APPROVAL_STATUS|WAGE_RATE_1|RATE_PER_1|MAX_RATE_1|PART_TIME_1|    CITY_1|STATE_1|PREVAILING_WAGE_1|WAGE_SOURCE_1|YR_SOURCE_PUB_1| OTHER_WAGE_SOURCE_1|WAGE_RATE_2|RATE_PER_2|MAX_RATE_2|PART_TIME_2|CITY_2|STATE_2|PREVAILING_WAGE_2|WAGE_SOURCE_2|YR_SOURCE_PUB_2|OTHER_WAGE_SOURCE_2|WITHDRAWN|  OCCUPATIONAL_TITLE|\n",
      "+--------------+---------------+-------+--------------------+--------------------+--------+----------+-----+-----------+--------------+----------+---------+------------------+-----------------+--------------------+------------------+--------+---------------+-----------+----------+----------+-----------+----------+-------+-----------------+-------------+---------------+--------------------+-----------+----------+----------+-----------+------+-------+-----------------+-------------+---------------+-------------------+---------+--------------------+\n",
      "|     3/30/2008|I-08090-4182485|      R|SPI RESEARCH AND ...|67 SOUTH BEDFORD ...|   205 W|BURLINGTON|   MA|      01803|             1| 9/30/2008|9/29/2011|PROGRAMMER ANALYST|        3/30/2008|                null|              null|      30|      CERTIFIED|      50000|        yr|     77000|          N|BURLINGTON|     MA|            44298|           yr|           2007|DOL ONLINE WAGE L...|       null|      null|      null|       null|  null|   null|             null|         null|           null|               null|        N|OCCUPATIONS IN SY...|\n",
      "+--------------+---------------+-------+--------------------+--------------------+--------+----------+-----+-----------+--------------+----------+---------+------------------+-----------------+--------------------+------------------+--------+---------------+-----------+----------+----------+-----------+----------+-------+-----------------+-------------+---------------+--------------------+-----------+----------+----------+-----------+------+-------+-----------------+-------------+---------------+-------------------+---------+--------------------+\n",
      "only showing top 1 row\n",
      "\n"
     ]
    }
   ],
   "source": [
    "df.show(1)"
   ]
  },
  {
   "cell_type": "code",
   "execution_count": null,
   "metadata": {},
   "outputs": [],
   "source": [
    "df"
   ]
  }
 ],
 "metadata": {
  "kernelspec": {
   "display_name": "Python 3",
   "language": "python",
   "name": "python3"
  },
  "language_info": {
   "codemirror_mode": {
    "name": "ipython",
    "version": 3
   },
   "file_extension": ".py",
   "mimetype": "text/x-python",
   "name": "python",
   "nbconvert_exporter": "python",
   "pygments_lexer": "ipython3",
   "version": "3.7.3"
  }
 },
 "nbformat": 4,
 "nbformat_minor": 2
}
